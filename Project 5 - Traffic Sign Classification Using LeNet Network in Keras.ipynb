{
 "cells": [
  {
   "cell_type": "markdown",
   "metadata": {},
   "source": [
    "# CLASSIFY TRAFFIC SIGNS USING LE-NET(CNN) ARCHITECTURE IN KERAS"
   ]
  },
  {
   "cell_type": "markdown",
   "metadata": {},
   "source": [
    "- The dataset contains 43 different classes of images and 50,000 images.\n",
    "- Classes are as listed below: \n",
    "\n",
    "    - ( 0, b'Speed limit (20km/h)') ( 1, b'Speed limit (30km/h)')\n",
    "    - ( 2, b'Speed limit (50km/h)') ( 3, b'Speed limit (60km/h)')\n",
    "    - ( 4, b'Speed limit (70km/h)') ( 5, b'Speed limit (80km/h)')\n",
    "    - ( 6, b'End of speed limit (80km/h)') ( 7, b'Speed limit (100km/h)')\n",
    "    - ( 8, b'Speed limit (120km/h)') ( 9, b'No passing')\n",
    "    - (10, b'No passing for vehicles over 3.5 metric tons')\n",
    "    - (11, b'Right-of-way at the next intersection') (12, b'Priority road')\n",
    "    - (13, b'Yield') (14, b'Stop') (15, b'No vehicles')\n",
    "    - (16, b'Vehicles over 3.5 metric tons prohibited') (17, b'No entry')\n",
    "    - (18, b'General caution') (19, b'Dangerous curve to the left')\n",
    "    - (20, b'Dangerous curve to the right') (21, b'Double curve')\n",
    "    - (22, b'Bumpy road') (23, b'Slippery road')\n",
    "    - (24, b'Road narrows on the right') (25, b'Road work')\n",
    "    - (26, b'Traffic signals') (27, b'Pedestrians') (28, b'Children crossing')\n",
    "    - (29, b'Bicycles crossing') (30, b'Beware of ice/snow')\n",
    "    - (31, b'Wild animals crossing')\n",
    "    - (32, b'End of all speed and passing limits') (33, b'Turn right ahead')\n",
    "    - (34, b'Turn left ahead') (35, b'Ahead only') (36, b'Go straight or right')\n",
    "    - (37, b'Go straight or left') (38, b'Keep right') (39, b'Keep left')\n",
    "    - (40, b'Roundabout mandatory') (41, b'End of no passing')\n",
    "    - (42, b'End of no passing by vehicles over 3.5 metric tons')\n",
    "\n"
   ]
  },
  {
   "cell_type": "markdown",
   "metadata": {},
   "source": [
    "# Libraries Import and Dataset"
   ]
  },
  {
   "cell_type": "code",
   "execution_count": 2,
   "metadata": {},
   "outputs": [],
   "source": [
    "import warnings\n",
    "warnings.filterwarnings(\"ignore\")"
   ]
  },
  {
   "cell_type": "code",
   "execution_count": 3,
   "metadata": {},
   "outputs": [],
   "source": [
    "import pickle\n",
    "import seaborn as sns\n",
    "import pandas as pd \n",
    "import numpy as np \n",
    "import matplotlib.pyplot as plt \n",
    "import random"
   ]
  },
  {
   "cell_type": "code",
   "execution_count": 4,
   "metadata": {},
   "outputs": [],
   "source": [
    "# The pickle module implements binary protocols for serializing and de-serializing a Python object structure.\n",
    "with open(\"./traffic-signs-data/train.p\", mode='rb') as training_data:\n",
    "    train = pickle.load(training_data)\n",
    "with open(\"./traffic-signs-data/valid.p\", mode='rb') as validation_data:\n",
    "    valid = pickle.load(validation_data)\n",
    "with open(\"./traffic-signs-data/test.p\", mode='rb') as testing_data:\n",
    "    test = pickle.load(testing_data)"
   ]
  },
  {
   "cell_type": "code",
   "execution_count": 5,
   "metadata": {},
   "outputs": [],
   "source": [
    "X_train, y_train = train['features'], train['labels']\n",
    "X_validation, y_validation = valid['features'], valid['labels']\n",
    "X_test, y_test = test['features'], test['labels']\n"
   ]
  },
  {
   "cell_type": "code",
   "execution_count": 6,
   "metadata": {},
   "outputs": [
    {
     "data": {
      "text/plain": [
       "(34799, 32, 32, 3)"
      ]
     },
     "execution_count": 6,
     "metadata": {},
     "output_type": "execute_result"
    }
   ],
   "source": [
    "X_train.shape"
   ]
  },
  {
   "cell_type": "code",
   "execution_count": 7,
   "metadata": {},
   "outputs": [
    {
     "data": {
      "text/plain": [
       "(34799,)"
      ]
     },
     "execution_count": 7,
     "metadata": {},
     "output_type": "execute_result"
    }
   ],
   "source": [
    "y_train.shape"
   ]
  },
  {
   "cell_type": "code",
   "execution_count": 8,
   "metadata": {},
   "outputs": [
    {
     "data": {
      "text/plain": [
       "(4410, 32, 32, 3)"
      ]
     },
     "execution_count": 8,
     "metadata": {},
     "output_type": "execute_result"
    }
   ],
   "source": [
    "X_validation.shape"
   ]
  },
  {
   "cell_type": "code",
   "execution_count": 9,
   "metadata": {},
   "outputs": [
    {
     "data": {
      "text/plain": [
       "(4410,)"
      ]
     },
     "execution_count": 9,
     "metadata": {},
     "output_type": "execute_result"
    }
   ],
   "source": [
    "y_validation.shape"
   ]
  },
  {
   "cell_type": "code",
   "execution_count": 10,
   "metadata": {},
   "outputs": [
    {
     "data": {
      "text/plain": [
       "(12630, 32, 32, 3)"
      ]
     },
     "execution_count": 10,
     "metadata": {},
     "output_type": "execute_result"
    }
   ],
   "source": [
    "X_test.shape"
   ]
  },
  {
   "cell_type": "code",
   "execution_count": 11,
   "metadata": {},
   "outputs": [
    {
     "data": {
      "text/plain": [
       "(12630,)"
      ]
     },
     "execution_count": 11,
     "metadata": {},
     "output_type": "execute_result"
    }
   ],
   "source": [
    "y_test.shape"
   ]
  },
  {
   "cell_type": "markdown",
   "metadata": {},
   "source": [
    "# Image Exploration"
   ]
  },
  {
   "cell_type": "code",
   "execution_count": 12,
   "metadata": {},
   "outputs": [
    {
     "data": {
      "text/plain": [
       "36"
      ]
     },
     "execution_count": 12,
     "metadata": {},
     "output_type": "execute_result"
    },
    {
     "data": {
      "image/png": "[encoded data removed]",
      "text/plain": [
       "<Figure size 432x288 with 1 Axes>"
      ]
     },
     "metadata": {
      "needs_background": "light"
     },
     "output_type": "display_data"
    }
   ],
   "source": [
    "i = 1001\n",
    "plt.imshow(X_train[i]) # Show images are not shuffled\n",
    "y_train[i]"
   ]
  },
  {
   "cell_type": "code",
   "execution_count": 13,
   "metadata": {},
   "outputs": [
    {
     "data": {
      "text/plain": [
       "37"
      ]
     },
     "execution_count": 13,
     "metadata": {},
     "output_type": "execute_result"
    },
    {
     "data": {
      "image/png": "[encoded data removed]",
      "text/plain": [
       "<Figure size 432x288 with 1 Axes>"
      ]
     },
     "metadata": {
      "needs_background": "light"
     },
     "output_type": "display_data"
    }
   ],
   "source": [
    "i = 5009\n",
    "plt.imshow(X_train[i]) # Show images are not shuffled\n",
    "y_train[i]"
   ]
  },
  {
   "cell_type": "code",
   "execution_count": 14,
   "metadata": {},
   "outputs": [
    {
     "data": {
      "text/plain": [
       "17"
      ]
     },
     "execution_count": 14,
     "metadata": {},
     "output_type": "execute_result"
    },
    {
     "data": {
      "image/png": "[encoded data removed]",
      "text/plain": [
       "<Figure size 432x288 with 1 Axes>"
      ]
     },
     "metadata": {
      "needs_background": "light"
     },
     "output_type": "display_data"
    }
   ],
   "source": [
    "i = 4000\n",
    "plt.imshow(X_validation[i]) # Show images are not shuffled\n",
    "y_validation[i]"
   ]
  },
  {
   "cell_type": "code",
   "execution_count": 15,
   "metadata": {},
   "outputs": [
    {
     "data": {
      "text/plain": [
       "7"
      ]
     },
     "execution_count": 15,
     "metadata": {},
     "output_type": "execute_result"
    },
    {
     "data": {
      "image/png": "[encoded data removed]",
      "text/plain": [
       "<Figure size 432x288 with 1 Axes>"
      ]
     },
     "metadata": {
      "needs_background": "light"
     },
     "output_type": "display_data"
    }
   ],
   "source": [
    "i = 3000\n",
    "plt.imshow(X_validation[i]) # Show images are not shuffled\n",
    "y_validation[i]"
   ]
  },
  {
   "cell_type": "code",
   "execution_count": 16,
   "metadata": {},
   "outputs": [
    {
     "data": {
      "text/plain": [
       "11"
      ]
     },
     "execution_count": 16,
     "metadata": {},
     "output_type": "execute_result"
    },
    {
     "data": {
      "image/png": "[encoded data removed]",
      "text/plain": [
       "<Figure size 432x288 with 1 Axes>"
      ]
     },
     "metadata": {
      "needs_background": "light"
     },
     "output_type": "display_data"
    }
   ],
   "source": [
    "i = 3000\n",
    "plt.imshow(X_test[i]) # Show images are not shuffled\n",
    "y_test[i]"
   ]
  },
  {
   "cell_type": "markdown",
   "metadata": {},
   "source": [
    "# Data Preparation"
   ]
  },
  {
   "cell_type": "code",
   "execution_count": 17,
   "metadata": {},
   "outputs": [],
   "source": [
    "## Shuffle the dataset \n",
    "from sklearn.utils import shuffle\n",
    "X_train, y_train = shuffle(X_train, y_train)\n"
   ]
  },
  {
   "cell_type": "code",
   "execution_count": 18,
   "metadata": {},
   "outputs": [],
   "source": [
    "X_train_gray = np.sum(X_train/3, axis=3, keepdims=True)\n",
    "X_test_gray  = np.sum(X_test/3, axis=3, keepdims=True)\n",
    "X_validation_gray  = np.sum(X_validation/3, axis=3, keepdims=True) "
   ]
  },
  {
   "cell_type": "code",
   "execution_count": 19,
   "metadata": {},
   "outputs": [
    {
     "data": {
      "text/plain": [
       "(34799, 32, 32, 1)"
      ]
     },
     "execution_count": 19,
     "metadata": {},
     "output_type": "execute_result"
    }
   ],
   "source": [
    "X_train_gray.shape # now 1 channel"
   ]
  },
  {
   "cell_type": "code",
   "execution_count": 20,
   "metadata": {},
   "outputs": [
    {
     "data": {
      "text/plain": [
       "array([[[[123.33333333],\n",
       "         [129.66666667],\n",
       "         [134.        ],\n",
       "         ...,\n",
       "         [130.66666667],\n",
       "         [142.        ],\n",
       "         [145.33333333]],\n",
       "\n",
       "        [[158.        ],\n",
       "         [123.        ],\n",
       "         [ 99.66666667],\n",
       "         ...,\n",
       "         [173.33333333],\n",
       "         [183.        ],\n",
       "         [178.33333333]],\n",
       "\n",
       "        [[166.66666667],\n",
       "         [115.        ],\n",
       "         [115.        ],\n",
       "         ...,\n",
       "         [114.66666667],\n",
       "         [118.66666667],\n",
       "         [117.33333333]],\n",
       "\n",
       "        ...,\n",
       "\n",
       "        [[182.        ],\n",
       "         [187.66666667],\n",
       "         [193.66666667],\n",
       "         ...,\n",
       "         [ 96.33333333],\n",
       "         [ 92.        ],\n",
       "         [ 78.        ]],\n",
       "\n",
       "        [[198.33333333],\n",
       "         [200.        ],\n",
       "         [181.        ],\n",
       "         ...,\n",
       "         [ 72.33333333],\n",
       "         [ 78.33333333],\n",
       "         [ 77.        ]],\n",
       "\n",
       "        [[224.66666667],\n",
       "         [219.        ],\n",
       "         [218.33333333],\n",
       "         ...,\n",
       "         [ 61.33333333],\n",
       "         [ 55.66666667],\n",
       "         [ 57.        ]]],\n",
       "\n",
       "\n",
       "       [[[ 36.66666667],\n",
       "         [ 41.33333333],\n",
       "         [ 44.        ],\n",
       "         ...,\n",
       "         [ 38.33333333],\n",
       "         [ 52.66666667],\n",
       "         [ 62.66666667]],\n",
       "\n",
       "        [[ 37.33333333],\n",
       "         [ 41.33333333],\n",
       "         [ 39.        ],\n",
       "         ...,\n",
       "         [ 39.33333333],\n",
       "         [ 48.66666667],\n",
       "         [ 59.66666667]],\n",
       "\n",
       "        [[ 41.33333333],\n",
       "         [ 37.33333333],\n",
       "         [ 34.        ],\n",
       "         ...,\n",
       "         [ 37.        ],\n",
       "         [ 50.66666667],\n",
       "         [ 61.66666667]],\n",
       "\n",
       "        ...,\n",
       "\n",
       "        [[ 40.66666667],\n",
       "         [ 44.        ],\n",
       "         [ 47.66666667],\n",
       "         ...,\n",
       "         [ 45.66666667],\n",
       "         [ 46.66666667],\n",
       "         [ 46.33333333]],\n",
       "\n",
       "        [[ 40.33333333],\n",
       "         [ 53.        ],\n",
       "         [ 68.66666667],\n",
       "         ...,\n",
       "         [ 43.33333333],\n",
       "         [ 55.        ],\n",
       "         [ 50.66666667]],\n",
       "\n",
       "        [[ 41.33333333],\n",
       "         [ 50.        ],\n",
       "         [ 64.66666667],\n",
       "         ...,\n",
       "         [ 40.33333333],\n",
       "         [ 55.33333333],\n",
       "         [ 52.33333333]]],\n",
       "\n",
       "\n",
       "       [[[ 50.33333333],\n",
       "         [ 70.33333333],\n",
       "         [120.66666667],\n",
       "         ...,\n",
       "         [ 73.33333333],\n",
       "         [ 63.66666667],\n",
       "         [ 52.        ]],\n",
       "\n",
       "        [[ 78.66666667],\n",
       "         [ 85.33333333],\n",
       "         [163.33333333],\n",
       "         ...,\n",
       "         [ 70.66666667],\n",
       "         [ 61.66666667],\n",
       "         [ 51.        ]],\n",
       "\n",
       "        [[ 86.33333333],\n",
       "         [ 92.33333333],\n",
       "         [171.66666667],\n",
       "         ...,\n",
       "         [ 66.        ],\n",
       "         [ 58.        ],\n",
       "         [ 48.        ]],\n",
       "\n",
       "        ...,\n",
       "\n",
       "        [[ 33.66666667],\n",
       "         [ 35.        ],\n",
       "         [ 52.66666667],\n",
       "         ...,\n",
       "         [ 46.        ],\n",
       "         [ 45.66666667],\n",
       "         [ 44.66666667]],\n",
       "\n",
       "        [[ 50.33333333],\n",
       "         [ 47.        ],\n",
       "         [ 60.33333333],\n",
       "         ...,\n",
       "         [ 46.66666667],\n",
       "         [ 46.33333333],\n",
       "         [ 44.33333333]],\n",
       "\n",
       "        [[ 86.33333333],\n",
       "         [ 63.66666667],\n",
       "         [ 65.33333333],\n",
       "         ...,\n",
       "         [ 45.66666667],\n",
       "         [ 46.33333333],\n",
       "         [ 45.66666667]]],\n",
       "\n",
       "\n",
       "       ...,\n",
       "\n",
       "\n",
       "       [[[ 64.33333333],\n",
       "         [ 85.66666667],\n",
       "         [ 74.        ],\n",
       "         ...,\n",
       "         [ 99.66666667],\n",
       "         [108.66666667],\n",
       "         [ 91.        ]],\n",
       "\n",
       "        [[ 59.        ],\n",
       "         [ 84.66666667],\n",
       "         [ 92.66666667],\n",
       "         ...,\n",
       "         [ 93.33333333],\n",
       "         [119.        ],\n",
       "         [103.33333333]],\n",
       "\n",
       "        [[ 89.33333333],\n",
       "         [ 70.33333333],\n",
       "         [ 87.66666667],\n",
       "         ...,\n",
       "         [ 94.66666667],\n",
       "         [104.66666667],\n",
       "         [ 99.        ]],\n",
       "\n",
       "        ...,\n",
       "\n",
       "        [[ 65.        ],\n",
       "         [ 56.33333333],\n",
       "         [ 47.66666667],\n",
       "         ...,\n",
       "         [ 74.66666667],\n",
       "         [ 68.        ],\n",
       "         [ 56.        ]],\n",
       "\n",
       "        [[ 53.33333333],\n",
       "         [ 49.33333333],\n",
       "         [ 60.        ],\n",
       "         ...,\n",
       "         [ 61.33333333],\n",
       "         [ 68.66666667],\n",
       "         [ 62.33333333]],\n",
       "\n",
       "        [[ 42.66666667],\n",
       "         [ 42.66666667],\n",
       "         [ 45.        ],\n",
       "         ...,\n",
       "         [ 43.33333333],\n",
       "         [ 61.        ],\n",
       "         [ 95.66666667]]],\n",
       "\n",
       "\n",
       "       [[[150.66666667],\n",
       "         [150.        ],\n",
       "         [149.33333333],\n",
       "         ...,\n",
       "         [ 83.        ],\n",
       "         [127.66666667],\n",
       "         [149.33333333]],\n",
       "\n",
       "        [[148.33333333],\n",
       "         [149.        ],\n",
       "         [148.66666667],\n",
       "         ...,\n",
       "         [ 83.66666667],\n",
       "         [126.        ],\n",
       "         [148.66666667]],\n",
       "\n",
       "        [[147.33333333],\n",
       "         [147.66666667],\n",
       "         [148.66666667],\n",
       "         ...,\n",
       "         [ 82.66666667],\n",
       "         [124.66666667],\n",
       "         [148.66666667]],\n",
       "\n",
       "        ...,\n",
       "\n",
       "        [[ 89.        ],\n",
       "         [ 84.        ],\n",
       "         [ 86.        ],\n",
       "         ...,\n",
       "         [ 70.33333333],\n",
       "         [ 68.66666667],\n",
       "         [ 87.33333333]],\n",
       "\n",
       "        [[106.        ],\n",
       "         [ 97.        ],\n",
       "         [ 94.66666667],\n",
       "         ...,\n",
       "         [ 71.        ],\n",
       "         [ 67.        ],\n",
       "         [ 88.66666667]],\n",
       "\n",
       "        [[109.33333333],\n",
       "         [ 95.        ],\n",
       "         [ 88.33333333],\n",
       "         ...,\n",
       "         [ 63.        ],\n",
       "         [ 65.33333333],\n",
       "         [ 80.        ]]],\n",
       "\n",
       "\n",
       "       [[[ 10.33333333],\n",
       "         [ 12.33333333],\n",
       "         [ 10.66666667],\n",
       "         ...,\n",
       "         [ 10.        ],\n",
       "         [ 11.        ],\n",
       "         [ 12.66666667]],\n",
       "\n",
       "        [[ 10.66666667],\n",
       "         [ 11.66666667],\n",
       "         [ 10.33333333],\n",
       "         ...,\n",
       "         [  9.66666667],\n",
       "         [ 10.33333333],\n",
       "         [ 13.        ]],\n",
       "\n",
       "        [[ 10.66666667],\n",
       "         [ 11.66666667],\n",
       "         [ 11.        ],\n",
       "         ...,\n",
       "         [ 10.66666667],\n",
       "         [ 10.33333333],\n",
       "         [ 11.66666667]],\n",
       "\n",
       "        ...,\n",
       "\n",
       "        [[  9.        ],\n",
       "         [  8.33333333],\n",
       "         [  8.33333333],\n",
       "         ...,\n",
       "         [  7.33333333],\n",
       "         [  8.        ],\n",
       "         [  7.33333333]],\n",
       "\n",
       "        [[  9.        ],\n",
       "         [  8.33333333],\n",
       "         [  8.        ],\n",
       "         ...,\n",
       "         [  8.        ],\n",
       "         [  7.66666667],\n",
       "         [  8.33333333]],\n",
       "\n",
       "        [[  8.66666667],\n",
       "         [  9.66666667],\n",
       "         [  8.66666667],\n",
       "         ...,\n",
       "         [  7.66666667],\n",
       "         [  8.        ],\n",
       "         [  7.33333333]]]])"
      ]
     },
     "execution_count": 20,
     "metadata": {},
     "output_type": "execute_result"
    }
   ],
   "source": [
    "X_train_gray"
   ]
  },
  {
   "cell_type": "code",
   "execution_count": 21,
   "metadata": {},
   "outputs": [],
   "source": [
    "# Normalisation\n",
    "X_train_gray_norm = (X_train_gray - 128)/128 \n",
    "X_test_gray_norm = (X_test_gray - 128)/128\n",
    "X_validation_gray_norm = (X_validation_gray - 128)/128\n"
   ]
  },
  {
   "cell_type": "code",
   "execution_count": 22,
   "metadata": {},
   "outputs": [
    {
     "data": {
      "text/plain": [
       "array([[[[-0.03645833],\n",
       "         [ 0.01302083],\n",
       "         [ 0.046875  ],\n",
       "         ...,\n",
       "         [ 0.02083333],\n",
       "         [ 0.109375  ],\n",
       "         [ 0.13541667]],\n",
       "\n",
       "        [[ 0.234375  ],\n",
       "         [-0.0390625 ],\n",
       "         [-0.22135417],\n",
       "         ...,\n",
       "         [ 0.35416667],\n",
       "         [ 0.4296875 ],\n",
       "         [ 0.39322917]],\n",
       "\n",
       "        [[ 0.30208333],\n",
       "         [-0.1015625 ],\n",
       "         [-0.1015625 ],\n",
       "         ...,\n",
       "         [-0.10416667],\n",
       "         [-0.07291667],\n",
       "         [-0.08333333]],\n",
       "\n",
       "        ...,\n",
       "\n",
       "        [[ 0.421875  ],\n",
       "         [ 0.46614583],\n",
       "         [ 0.51302083],\n",
       "         ...,\n",
       "         [-0.24739583],\n",
       "         [-0.28125   ],\n",
       "         [-0.390625  ]],\n",
       "\n",
       "        [[ 0.54947917],\n",
       "         [ 0.5625    ],\n",
       "         [ 0.4140625 ],\n",
       "         ...,\n",
       "         [-0.43489583],\n",
       "         [-0.38802083],\n",
       "         [-0.3984375 ]],\n",
       "\n",
       "        [[ 0.75520833],\n",
       "         [ 0.7109375 ],\n",
       "         [ 0.70572917],\n",
       "         ...,\n",
       "         [-0.52083333],\n",
       "         [-0.56510417],\n",
       "         [-0.5546875 ]]],\n",
       "\n",
       "\n",
       "       [[[-0.71354167],\n",
       "         [-0.67708333],\n",
       "         [-0.65625   ],\n",
       "         ...,\n",
       "         [-0.70052083],\n",
       "         [-0.58854167],\n",
       "         [-0.51041667]],\n",
       "\n",
       "        [[-0.70833333],\n",
       "         [-0.67708333],\n",
       "         [-0.6953125 ],\n",
       "         ...,\n",
       "         [-0.69270833],\n",
       "         [-0.61979167],\n",
       "         [-0.53385417]],\n",
       "\n",
       "        [[-0.67708333],\n",
       "         [-0.70833333],\n",
       "         [-0.734375  ],\n",
       "         ...,\n",
       "         [-0.7109375 ],\n",
       "         [-0.60416667],\n",
       "         [-0.51822917]],\n",
       "\n",
       "        ...,\n",
       "\n",
       "        [[-0.68229167],\n",
       "         [-0.65625   ],\n",
       "         [-0.62760417],\n",
       "         ...,\n",
       "         [-0.64322917],\n",
       "         [-0.63541667],\n",
       "         [-0.63802083]],\n",
       "\n",
       "        [[-0.68489583],\n",
       "         [-0.5859375 ],\n",
       "         [-0.46354167],\n",
       "         ...,\n",
       "         [-0.66145833],\n",
       "         [-0.5703125 ],\n",
       "         [-0.60416667]],\n",
       "\n",
       "        [[-0.67708333],\n",
       "         [-0.609375  ],\n",
       "         [-0.49479167],\n",
       "         ...,\n",
       "         [-0.68489583],\n",
       "         [-0.56770833],\n",
       "         [-0.59114583]]],\n",
       "\n",
       "\n",
       "       [[[-0.60677083],\n",
       "         [-0.45052083],\n",
       "         [-0.05729167],\n",
       "         ...,\n",
       "         [-0.42708333],\n",
       "         [-0.50260417],\n",
       "         [-0.59375   ]],\n",
       "\n",
       "        [[-0.38541667],\n",
       "         [-0.33333333],\n",
       "         [ 0.27604167],\n",
       "         ...,\n",
       "         [-0.44791667],\n",
       "         [-0.51822917],\n",
       "         [-0.6015625 ]],\n",
       "\n",
       "        [[-0.32552083],\n",
       "         [-0.27864583],\n",
       "         [ 0.34114583],\n",
       "         ...,\n",
       "         [-0.484375  ],\n",
       "         [-0.546875  ],\n",
       "         [-0.625     ]],\n",
       "\n",
       "        ...,\n",
       "\n",
       "        [[-0.73697917],\n",
       "         [-0.7265625 ],\n",
       "         [-0.58854167],\n",
       "         ...,\n",
       "         [-0.640625  ],\n",
       "         [-0.64322917],\n",
       "         [-0.65104167]],\n",
       "\n",
       "        [[-0.60677083],\n",
       "         [-0.6328125 ],\n",
       "         [-0.52864583],\n",
       "         ...,\n",
       "         [-0.63541667],\n",
       "         [-0.63802083],\n",
       "         [-0.65364583]],\n",
       "\n",
       "        [[-0.32552083],\n",
       "         [-0.50260417],\n",
       "         [-0.48958333],\n",
       "         ...,\n",
       "         [-0.64322917],\n",
       "         [-0.63802083],\n",
       "         [-0.64322917]]],\n",
       "\n",
       "\n",
       "       ...,\n",
       "\n",
       "\n",
       "       [[[-0.49739583],\n",
       "         [-0.33072917],\n",
       "         [-0.421875  ],\n",
       "         ...,\n",
       "         [-0.22135417],\n",
       "         [-0.15104167],\n",
       "         [-0.2890625 ]],\n",
       "\n",
       "        [[-0.5390625 ],\n",
       "         [-0.33854167],\n",
       "         [-0.27604167],\n",
       "         ...,\n",
       "         [-0.27083333],\n",
       "         [-0.0703125 ],\n",
       "         [-0.19270833]],\n",
       "\n",
       "        [[-0.30208333],\n",
       "         [-0.45052083],\n",
       "         [-0.31510417],\n",
       "         ...,\n",
       "         [-0.26041667],\n",
       "         [-0.18229167],\n",
       "         [-0.2265625 ]],\n",
       "\n",
       "        ...,\n",
       "\n",
       "        [[-0.4921875 ],\n",
       "         [-0.55989583],\n",
       "         [-0.62760417],\n",
       "         ...,\n",
       "         [-0.41666667],\n",
       "         [-0.46875   ],\n",
       "         [-0.5625    ]],\n",
       "\n",
       "        [[-0.58333333],\n",
       "         [-0.61458333],\n",
       "         [-0.53125   ],\n",
       "         ...,\n",
       "         [-0.52083333],\n",
       "         [-0.46354167],\n",
       "         [-0.51302083]],\n",
       "\n",
       "        [[-0.66666667],\n",
       "         [-0.66666667],\n",
       "         [-0.6484375 ],\n",
       "         ...,\n",
       "         [-0.66145833],\n",
       "         [-0.5234375 ],\n",
       "         [-0.25260417]]],\n",
       "\n",
       "\n",
       "       [[[ 0.17708333],\n",
       "         [ 0.171875  ],\n",
       "         [ 0.16666667],\n",
       "         ...,\n",
       "         [-0.3515625 ],\n",
       "         [-0.00260417],\n",
       "         [ 0.16666667]],\n",
       "\n",
       "        [[ 0.15885417],\n",
       "         [ 0.1640625 ],\n",
       "         [ 0.16145833],\n",
       "         ...,\n",
       "         [-0.34635417],\n",
       "         [-0.015625  ],\n",
       "         [ 0.16145833]],\n",
       "\n",
       "        [[ 0.15104167],\n",
       "         [ 0.15364583],\n",
       "         [ 0.16145833],\n",
       "         ...,\n",
       "         [-0.35416667],\n",
       "         [-0.02604167],\n",
       "         [ 0.16145833]],\n",
       "\n",
       "        ...,\n",
       "\n",
       "        [[-0.3046875 ],\n",
       "         [-0.34375   ],\n",
       "         [-0.328125  ],\n",
       "         ...,\n",
       "         [-0.45052083],\n",
       "         [-0.46354167],\n",
       "         [-0.31770833]],\n",
       "\n",
       "        [[-0.171875  ],\n",
       "         [-0.2421875 ],\n",
       "         [-0.26041667],\n",
       "         ...,\n",
       "         [-0.4453125 ],\n",
       "         [-0.4765625 ],\n",
       "         [-0.30729167]],\n",
       "\n",
       "        [[-0.14583333],\n",
       "         [-0.2578125 ],\n",
       "         [-0.30989583],\n",
       "         ...,\n",
       "         [-0.5078125 ],\n",
       "         [-0.48958333],\n",
       "         [-0.375     ]]],\n",
       "\n",
       "\n",
       "       [[[-0.91927083],\n",
       "         [-0.90364583],\n",
       "         [-0.91666667],\n",
       "         ...,\n",
       "         [-0.921875  ],\n",
       "         [-0.9140625 ],\n",
       "         [-0.90104167]],\n",
       "\n",
       "        [[-0.91666667],\n",
       "         [-0.90885417],\n",
       "         [-0.91927083],\n",
       "         ...,\n",
       "         [-0.92447917],\n",
       "         [-0.91927083],\n",
       "         [-0.8984375 ]],\n",
       "\n",
       "        [[-0.91666667],\n",
       "         [-0.90885417],\n",
       "         [-0.9140625 ],\n",
       "         ...,\n",
       "         [-0.91666667],\n",
       "         [-0.91927083],\n",
       "         [-0.90885417]],\n",
       "\n",
       "        ...,\n",
       "\n",
       "        [[-0.9296875 ],\n",
       "         [-0.93489583],\n",
       "         [-0.93489583],\n",
       "         ...,\n",
       "         [-0.94270833],\n",
       "         [-0.9375    ],\n",
       "         [-0.94270833]],\n",
       "\n",
       "        [[-0.9296875 ],\n",
       "         [-0.93489583],\n",
       "         [-0.9375    ],\n",
       "         ...,\n",
       "         [-0.9375    ],\n",
       "         [-0.94010417],\n",
       "         [-0.93489583]],\n",
       "\n",
       "        [[-0.93229167],\n",
       "         [-0.92447917],\n",
       "         [-0.93229167],\n",
       "         ...,\n",
       "         [-0.94010417],\n",
       "         [-0.9375    ],\n",
       "         [-0.94270833]]]])"
      ]
     },
     "execution_count": 22,
     "metadata": {},
     "output_type": "execute_result"
    }
   ],
   "source": [
    "X_train_gray_norm # value bw (0 - 1)"
   ]
  },
  {
   "cell_type": "code",
   "execution_count": 23,
   "metadata": {},
   "outputs": [
    {
     "data": {
      "text/plain": [
       "<Figure size 432x288 with 0 Axes>"
      ]
     },
     "execution_count": 23,
     "metadata": {},
     "output_type": "execute_result"
    },
    {
     "data": {
      "image/png": "[encoded data removed]",
      "text/plain": [
       "<Figure size 432x288 with 1 Axes>"
      ]
     },
     "metadata": {
      "needs_background": "light"
     },
     "output_type": "display_data"
    },
    {
     "data": {
      "image/png": "[encoded data removed]",
      "text/plain": [
       "<Figure size 432x288 with 1 Axes>"
      ]
     },
     "metadata": {
      "needs_background": "light"
     },
     "output_type": "display_data"
    },
    {
     "data": {
      "image/png": "[encoded data removed]",
      "text/plain": [
       "<Figure size 432x288 with 1 Axes>"
      ]
     },
     "metadata": {
      "needs_background": "light"
     },
     "output_type": "display_data"
    },
    {
     "data": {
      "text/plain": [
       "<Figure size 432x288 with 0 Axes>"
      ]
     },
     "metadata": {},
     "output_type": "display_data"
    }
   ],
   "source": [
    "i = 610\n",
    "plt.imshow(X_train_gray[i].squeeze(), cmap='gray')\n",
    "plt.figure()\n",
    "plt.imshow(X_train[i])\n",
    "plt.figure()\n",
    "plt.imshow(X_train_gray_norm[i].squeeze(), cmap='gray')\n",
    "plt.figure()"
   ]
  },
  {
   "cell_type": "markdown",
   "metadata": {},
   "source": [
    "# Model Training"
   ]
  },
  {
   "cell_type": "code",
   "execution_count": 24,
   "metadata": {},
   "outputs": [
    {
     "name": "stderr",
     "output_type": "stream",
     "text": [
      "Using TensorFlow backend.\n"
     ]
    }
   ],
   "source": [
    "from keras.models import Sequential\n",
    "from keras.layers import Conv2D, MaxPooling2D, AveragePooling2D, Dense, Flatten, Dropout\n",
    "from keras.optimizers import Adam\n",
    "from keras.callbacks import TensorBoard\n",
    "\n",
    "from sklearn.model_selection import train_test_split\n"
   ]
  },
  {
   "cell_type": "code",
   "execution_count": 25,
   "metadata": {},
   "outputs": [],
   "source": [
    "image_shape = X_train_gray[i].shape"
   ]
  },
  {
   "cell_type": "code",
   "execution_count": 26,
   "metadata": {},
   "outputs": [],
   "source": [
    "cnn_model = Sequential()\n",
    "\n",
    "cnn_model.add(Conv2D(filters=6, kernel_size=(5, 5), activation='relu', input_shape=(32,32,1)))\n",
    "cnn_model.add(AveragePooling2D())\n",
    "\n",
    "cnn_model.add(Conv2D(filters=16, kernel_size=(5, 5), activation='relu'))\n",
    "cnn_model.add(AveragePooling2D())\n",
    "\n",
    "cnn_model.add(Flatten())\n",
    "\n",
    "cnn_model.add(Dense(units=120, activation='relu'))\n",
    "\n",
    "cnn_model.add(Dense(units=84, activation='relu'))\n",
    "\n",
    "cnn_model.add(Dense(units=43, activation = 'softmax'))\n"
   ]
  },
  {
   "cell_type": "code",
   "execution_count": 27,
   "metadata": {},
   "outputs": [],
   "source": [
    "cnn_model.compile(loss ='sparse_categorical_crossentropy', optimizer=Adam(lr=0.001),metrics =['accuracy'])"
   ]
  },
  {
   "cell_type": "code",
   "execution_count": 28,
   "metadata": {},
   "outputs": [
    {
     "name": "stdout",
     "output_type": "stream",
     "text": [
      "Train on 34799 samples, validate on 4410 samples\n",
      "Epoch 1/30\n",
      "34799/34799 [==============================] - 10s 296us/step - loss: 3.0936 - accuracy: 0.2036 - val_loss: 2.5543 - val_accuracy: 0.3152\n",
      "Epoch 2/30\n",
      "34799/34799 [==============================] - 6s 185us/step - loss: 1.6211 - accuracy: 0.5404 - val_loss: 1.4741 - val_accuracy: 0.5667\n",
      "Epoch 3/30\n",
      "34799/34799 [==============================] - 7s 203us/step - loss: 0.9934 - accuracy: 0.7168 - val_loss: 1.0846 - val_accuracy: 0.6751\n",
      "Epoch 4/30\n",
      "34799/34799 [==============================] - 9s 246us/step - loss: 0.7333 - accuracy: 0.7947 - val_loss: 0.9240 - val_accuracy: 0.7351\n",
      "Epoch 5/30\n",
      "34799/34799 [==============================] - 8s 223us/step - loss: 0.5832 - accuracy: 0.8381 - val_loss: 0.8216 - val_accuracy: 0.7635\n",
      "Epoch 6/30\n",
      "34799/34799 [==============================] - 8s 228us/step - loss: 0.4729 - accuracy: 0.8715 - val_loss: 0.7936 - val_accuracy: 0.7800\n",
      "Epoch 7/30\n",
      "34799/34799 [==============================] - 8s 219us/step - loss: 0.3969 - accuracy: 0.8935 - val_loss: 0.7069 - val_accuracy: 0.8093\n",
      "Epoch 8/30\n",
      "34799/34799 [==============================] - 9s 248us/step - loss: 0.3308 - accuracy: 0.9151 - val_loss: 0.7183 - val_accuracy: 0.7966\n",
      "Epoch 9/30\n",
      "34799/34799 [==============================] - 8s 226us/step - loss: 0.2939 - accuracy: 0.9233 - val_loss: 0.6346 - val_accuracy: 0.8295\n",
      "Epoch 10/30\n",
      "34799/34799 [==============================] - 8s 231us/step - loss: 0.2520 - accuracy: 0.9366 - val_loss: 0.6096 - val_accuracy: 0.8329\n",
      "Epoch 11/30\n",
      "34799/34799 [==============================] - 8s 218us/step - loss: 0.2234 - accuracy: 0.9432 - val_loss: 0.6133 - val_accuracy: 0.8329\n",
      "Epoch 12/30\n",
      "34799/34799 [==============================] - 9s 250us/step - loss: 0.2035 - accuracy: 0.9489 - val_loss: 0.5962 - val_accuracy: 0.8381\n",
      "Epoch 13/30\n",
      "34799/34799 [==============================] - 9s 248us/step - loss: 0.1820 - accuracy: 0.9540 - val_loss: 0.5721 - val_accuracy: 0.8458\n",
      "Epoch 14/30\n",
      "34799/34799 [==============================] - 8s 233us/step - loss: 0.1684 - accuracy: 0.9583 - val_loss: 0.5390 - val_accuracy: 0.8540\n",
      "Epoch 15/30\n",
      "34799/34799 [==============================] - 8s 222us/step - loss: 0.1502 - accuracy: 0.9630 - val_loss: 0.5358 - val_accuracy: 0.8571\n",
      "Epoch 16/30\n",
      "34799/34799 [==============================] - 8s 232us/step - loss: 0.1345 - accuracy: 0.9678 - val_loss: 0.5704 - val_accuracy: 0.8567\n",
      "Epoch 17/30\n",
      "34799/34799 [==============================] - 8s 226us/step - loss: 0.1219 - accuracy: 0.9724 - val_loss: 0.5472 - val_accuracy: 0.8678\n",
      "Epoch 18/30\n",
      "34799/34799 [==============================] - 8s 232us/step - loss: 0.1150 - accuracy: 0.9727 - val_loss: 0.5594 - val_accuracy: 0.8599\n",
      "Epoch 19/30\n",
      "34799/34799 [==============================] - 8s 234us/step - loss: 0.1040 - accuracy: 0.9757 - val_loss: 0.5330 - val_accuracy: 0.8683\n",
      "Epoch 20/30\n",
      "34799/34799 [==============================] - 8s 242us/step - loss: 0.0974 - accuracy: 0.9761 - val_loss: 0.5538 - val_accuracy: 0.8646\n",
      "Epoch 21/30\n",
      "34799/34799 [==============================] - 8s 229us/step - loss: 0.0881 - accuracy: 0.9797 - val_loss: 0.5638 - val_accuracy: 0.8680\n",
      "Epoch 22/30\n",
      "34799/34799 [==============================] - 8s 226us/step - loss: 0.0835 - accuracy: 0.9795 - val_loss: 0.5988 - val_accuracy: 0.8649\n",
      "Epoch 23/30\n",
      "34799/34799 [==============================] - 8s 218us/step - loss: 0.0757 - accuracy: 0.9824 - val_loss: 0.6229 - val_accuracy: 0.8601\n",
      "Epoch 24/30\n",
      "34799/34799 [==============================] - 8s 221us/step - loss: 0.0720 - accuracy: 0.9831 - val_loss: 0.6036 - val_accuracy: 0.8644\n",
      "Epoch 25/30\n",
      "34799/34799 [==============================] - 8s 219us/step - loss: 0.0657 - accuracy: 0.9849 - val_loss: 0.6613 - val_accuracy: 0.8515\n",
      "Epoch 26/30\n",
      "34799/34799 [==============================] - 8s 227us/step - loss: 0.0604 - accuracy: 0.9861 - val_loss: 0.5866 - val_accuracy: 0.8624\n",
      "Epoch 27/30\n",
      "34799/34799 [==============================] - 8s 240us/step - loss: 0.0562 - accuracy: 0.9869 - val_loss: 0.6597 - val_accuracy: 0.8653\n",
      "Epoch 28/30\n",
      "34799/34799 [==============================] - 9s 248us/step - loss: 0.0519 - accuracy: 0.9883 - val_loss: 0.5404 - val_accuracy: 0.8728\n",
      "Epoch 29/30\n",
      "34799/34799 [==============================] - 8s 226us/step - loss: 0.0530 - accuracy: 0.9864 - val_loss: 0.5527 - val_accuracy: 0.8737\n",
      "Epoch 30/30\n",
      "34799/34799 [==============================] - 8s 226us/step - loss: 0.0497 - accuracy: 0.9872 - val_loss: 0.5529 - val_accuracy: 0.8803\n"
     ]
    }
   ],
   "source": [
    "history = cnn_model.fit(X_train_gray_norm,\n",
    "                        y_train,\n",
    "                        batch_size=500,\n",
    "                        nb_epoch=30,\n",
    "                        verbose=1,\n",
    "                        validation_data = (X_validation_gray_norm,y_validation))"
   ]
  },
  {
   "cell_type": "markdown",
   "metadata": {},
   "source": [
    "# Model Evaluation"
   ]
  },
  {
   "cell_type": "code",
   "execution_count": 29,
   "metadata": {},
   "outputs": [
    {
     "name": "stdout",
     "output_type": "stream",
     "text": [
      "Test Accuracy : 0.8700\n"
     ]
    }
   ],
   "source": [
    "score = cnn_model.evaluate(X_test_gray_norm, y_test,verbose=0)\n",
    "print('Test Accuracy : {:.4f}'.format(score[1]))"
   ]
  },
  {
   "cell_type": "code",
   "execution_count": 30,
   "metadata": {},
   "outputs": [
    {
     "data": {
      "text/plain": [
       "dict_keys(['val_loss', 'val_accuracy', 'loss', 'accuracy'])"
      ]
     },
     "execution_count": 30,
     "metadata": {},
     "output_type": "execute_result"
    }
   ],
   "source": [
    "history.history.keys()"
   ]
  },
  {
   "cell_type": "code",
   "execution_count": 33,
   "metadata": {},
   "outputs": [
    {
     "data": {
      "text/plain": [
       "<matplotlib.legend.Legend at 0x25e175e4488>"
      ]
     },
     "execution_count": 33,
     "metadata": {},
     "output_type": "execute_result"
    },
    {
     "data": {
      "image/png": "[encoded data removed]",
      "text/plain": [
       "<Figure size 432x288 with 1 Axes>"
      ]
     },
     "metadata": {
      "needs_background": "light"
     },
     "output_type": "display_data"
    }
   ],
   "source": [
    "accuracy = history.history['accuracy']\n",
    "val_accuracy = history.history['val_accuracy']\n",
    "loss = history.history['loss']\n",
    "val_loss = history.history['val_loss']\n",
    "\n",
    "epochs = range(len(accuracy))\n",
    "\n",
    "plt.plot(epochs, accuracy, 'bo', label='Training Accuracy')\n",
    "plt.plot(epochs, val_accuracy, 'b', label='Validation Accuracy')\n",
    "plt.title('Training and Validation accuracy')\n",
    "plt.legend()\n"
   ]
  },
  {
   "cell_type": "code",
   "execution_count": 34,
   "metadata": {},
   "outputs": [
    {
     "data": {
      "image/png": "[encoded data removed]",
      "text/plain": [
       "<Figure size 432x288 with 1 Axes>"
      ]
     },
     "metadata": {
      "needs_background": "light"
     },
     "output_type": "display_data"
    }
   ],
   "source": [
    "plt.plot(epochs, loss, 'ro', label='Training Loss')\n",
    "plt.plot(epochs, val_loss, 'r', label='Validation Loss')\n",
    "plt.title('Training and validation loss')\n",
    "plt.legend()\n",
    "plt.show()"
   ]
  },
  {
   "cell_type": "code",
   "execution_count": 35,
   "metadata": {},
   "outputs": [],
   "source": [
    "#get the predictions for the test data\n",
    "predicted_classes = cnn_model.predict_classes(X_test_gray_norm)\n",
    "#get the indices to be plotted\n",
    "y_true = y_test\n"
   ]
  },
  {
   "cell_type": "code",
   "execution_count": 36,
   "metadata": {},
   "outputs": [
    {
     "data": {
      "text/plain": [
       "<AxesSubplot:>"
      ]
     },
     "execution_count": 36,
     "metadata": {},
     "output_type": "execute_result"
    },
    {
     "data": {
      "image/png": "[encoded data removed]",
      "text/plain": [
       "<Figure size 1800x1800 with 2 Axes>"
      ]
     },
     "metadata": {
      "needs_background": "light"
     },
     "output_type": "display_data"
    }
   ],
   "source": [
    "from sklearn.metrics import confusion_matrix\n",
    "cm = confusion_matrix(y_true, predicted_classes)\n",
    "plt.figure(figsize = (25,25))\n",
    "sns.heatmap(cm, annot=True)"
   ]
  }
 ],
 "metadata": {
  "kernelspec": {
   "display_name": "Python 3",
   "language": "python",
   "name": "python3"
  },
  "language_info": {
   "codemirror_mode": {
    "name": "ipython",
    "version": 3
   },
   "file_extension": ".py",
   "mimetype": "text/x-python",
   "name": "python",
   "nbconvert_exporter": "python",
   "pygments_lexer": "ipython3",
   "version": "3.7.9"
  },
  "widgets": {
   "state": {},
   "version": "1.1.2"
  }
 },
 "nbformat": 4,
 "nbformat_minor": 4
}
